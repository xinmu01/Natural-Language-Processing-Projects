{
 "cells": [
  {
   "cell_type": "code",
   "execution_count": null,
   "metadata": {
    "collapsed": true
   },
   "outputs": [],
   "source": []
  },
  {
   "cell_type": "code",
   "execution_count": 4,
   "metadata": {
    "collapsed": false
   },
   "outputs": [],
   "source": [
    "with open (\"C:/Users/Xin/Desktop/Github-repo/Natural_Language_Processing_Projects/Project_3_Sequence_Tagging/hw3-data/train.txt\") as train_file:\n",
    "    word_train = [] ## each element in the word list is a list contains the word string in one sentence \n",
    "    tag_train = [] ## each element in the tag list is a list contains the tag string in one sentence\n",
    "    for line in train_file:\n",
    "        line_list = line.split() ## by default, using whitespace as delimiter\n",
    "        word_senten = []\n",
    "        tag_senten = []\n",
    "        for i in range(len(line_list)):\n",
    "            temp = line_list[i].split('/')\n",
    "            word_senten.append(temp[0])\n",
    "            tag_senten.append(temp[1]) \n",
    "        word_train.append(word_senten)\n",
    "        tag_train.append(tag_senten)\n"
   ]
  },
  {
   "cell_type": "code",
   "execution_count": 5,
   "metadata": {
    "collapsed": false
   },
   "outputs": [],
   "source": [
    "## Unigram count function\n",
    "def unigram_counts(collection):\n",
    "    unigram_counts = {}\n",
    "    for i in collection:\n",
    "        for j in i:\n",
    "            if j not in unigram_counts:\n",
    "                unigram_counts[j] = 1\n",
    "            else:\n",
    "                unigram_counts[j] += 1\n",
    "    return unigram_counts        "
   ]
  },
  {
   "cell_type": "code",
   "execution_count": 6,
   "metadata": {
    "collapsed": false
   },
   "outputs": [],
   "source": [
    "## Unigram count for the tag sequence\n",
    "tag_unigram_counts = unigram_counts(tag_train)\n",
    "## Unigram count for the word sequence\n",
    "word_unigram_counts = unigram_counts(word_train)"
   ]
  },
  {
   "cell_type": "code",
   "execution_count": 11,
   "metadata": {
    "collapsed": false
   },
   "outputs": [],
   "source": [
    "## Function for total counts\n",
    "def total_counts(collection):\n",
    "    counts = 0\n",
    "    for i in collection:\n",
    "        counts += collection[i]\n",
    "    return counts        "
   ]
  },
  {
   "cell_type": "code",
   "execution_count": 14,
   "metadata": {
    "collapsed": true
   },
   "outputs": [],
   "source": [
    "## Function for calculate the frequency p(t) and p(w) \n",
    "def frequency(collection,T_count):\n",
    "    for i in collection:\n",
    "        collection[i] = collection[i]/T_count\n",
    "    return collection"
   ]
  },
  {
   "cell_type": "code",
   "execution_count": 13,
   "metadata": {
    "collapsed": false
   },
   "outputs": [],
   "source": [
    "totoal_number_tag = total_counts(tag_unigram_counts)\n",
    "totoal_number_word = total_counts(word_unigram_counts)"
   ]
  },
  {
   "cell_type": "code",
   "execution_count": 15,
   "metadata": {
    "collapsed": true
   },
   "outputs": [],
   "source": [
    "tag_unigram_frequency = frequency(tag_unigram_counts,totoal_number_tag)\n",
    "word_unigram_frequency = frequency(word_unigram_counts,totoal_number_word)"
   ]
  },
  {
   "cell_type": "code",
   "execution_count": 16,
   "metadata": {
    "collapsed": false
   },
   "outputs": [
    {
     "data": {
      "text/plain": [
       "{'A': 0.0019051415557901528,\n",
       " 'D': 0.04110893071257953,\n",
       " 'E': 0.005422422698724184,\n",
       " 'F': 0.04907782974825095,\n",
       " 'N': 0.8385194472197194,\n",
       " 'R': 0.06396622806493578}"
      ]
     },
     "execution_count": 16,
     "metadata": {},
     "output_type": "execute_result"
    }
   ],
   "source": [
    "tag_unigram_frequency"
   ]
  },
  {
   "cell_type": "code",
   "execution_count": null,
   "metadata": {
    "collapsed": true
   },
   "outputs": [],
   "source": []
  }
 ],
 "metadata": {
  "kernelspec": {
   "display_name": "Python [Root]",
   "language": "python",
   "name": "Python [Root]"
  },
  "language_info": {
   "codemirror_mode": {
    "name": "ipython",
    "version": 3
   },
   "file_extension": ".py",
   "mimetype": "text/x-python",
   "name": "python",
   "nbconvert_exporter": "python",
   "pygments_lexer": "ipython3",
   "version": "3.5.2"
  }
 },
 "nbformat": 4,
 "nbformat_minor": 0
}
