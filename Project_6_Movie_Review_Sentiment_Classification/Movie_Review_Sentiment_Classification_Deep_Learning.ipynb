{
 "cells": [
  {
   "cell_type": "code",
   "execution_count": 1,
   "metadata": {
    "collapsed": false
   },
   "outputs": [
    {
     "name": "stdout",
     "output_type": "stream",
     "text": [
      "Read 25000 labeled train reviews, 25000 labeled test reviews, and 50000 unlabeled reviews\n",
      "\n"
     ]
    }
   ],
   "source": [
    "import pandas as pd\n",
    "\n",
    "# Read data from files \n",
    "file_train_labeled = 'C:/Users/Xin/Desktop/Github-repo/Natural_Language_Processing_Projects/Project_6_Movie_Review_Sentiment_Classification/Data/labeledTrainData.tsv'\n",
    "file_train_unlabeled = 'C:/Users/Xin/Desktop/Github-repo/Natural_Language_Processing_Projects/Project_6_Movie_Review_Sentiment_Classification/Data/unlabeledTrainData.tsv'\n",
    "file_test = 'C:/Users/Xin/Desktop/Github-repo/Natural_Language_Processing_Projects/Project_6_Movie_Review_Sentiment_Classification/Data/testData.tsv'\n",
    "train = pd.read_csv( file_train_labeled, header=0, delimiter=\"\\t\", quoting=3 )\n",
    "test = pd.read_csv( file_test, header=0, delimiter=\"\\t\", quoting=3 )\n",
    "unlabeled_train = pd.read_csv( file_train_unlabeled, header=0, delimiter=\"\\t\", quoting=3 )\n",
    "\n",
    "# Verify the number of reviews that were read (100,000 in total)\n",
    "print \"Read %d labeled train reviews, %d labeled test reviews, \" \\\n",
    " \"and %d unlabeled reviews\\n\" % (train[\"review\"].size,  \n",
    " test[\"review\"].size, unlabeled_train[\"review\"].size )"
   ]
  },
  {
   "cell_type": "code",
   "execution_count": 2,
   "metadata": {
    "collapsed": true
   },
   "outputs": [],
   "source": [
    "# Import various modules for string cleaning\n",
    "from bs4 import BeautifulSoup\n",
    "import re\n",
    "from nltk.corpus import stopwords\n",
    "\n",
    "def review_to_wordlist( review, remove_stopwords=False ):\n",
    "    # Function to convert a document to a sequence of words,\n",
    "    # optionally removing stop words.  Returns a list of words.\n",
    "    #\n",
    "    # 1. Remove HTML\n",
    "    review_text = BeautifulSoup(review).get_text()\n",
    "    #  \n",
    "    # 2. Remove non-letters\n",
    "    review_text = re.sub(\"[^a-zA-Z]\",\" \", review_text)\n",
    "    #\n",
    "    # 3. Convert words to lower case and split them\n",
    "    words = review_text.lower().split()\n",
    "    #\n",
    "    # 4. Optionally remove stop words (false by default)\n",
    "    if remove_stopwords:\n",
    "        stops = set(stopwords.words(\"english\"))\n",
    "        words = [w for w in words if not w in stops]\n",
    "    #\n",
    "    # 5. Return a list of words\n",
    "    return(words)"
   ]
  },
  {
   "cell_type": "code",
   "execution_count": 5,
   "metadata": {
    "collapsed": true
   },
   "outputs": [],
   "source": [
    "import nltk.data\n",
    "# Load the punkt tokenizer\n",
    "tokenizer = nltk.data.load('tokenizers/punkt/english.pickle')\n",
    "# Define a function to split a review into parsed sentences\n",
    "def review_to_sentences( review, tokenizer, remove_stopwords=False ):\n",
    "    # Function to split a review into parsed sentences. Returns a \n",
    "    # list of sentences, where each sentence is a list of words\n",
    "    #\n",
    "    # 1. Use the NLTK tokenizer to split the paragraph into sentences\n",
    "    raw_sentences = tokenizer.tokenize(review.strip())\n",
    "    #\n",
    "    # 2. Loop over each sentence\n",
    "    sentences = []\n",
    "    for raw_sentence in raw_sentences:\n",
    "        # If a sentence is empty, skip it\n",
    "        if len(raw_sentence) > 0:\n",
    "            # Otherwise, call review_to_wordlist to get a list of words\n",
    "            sentences.append( review_to_wordlist( raw_sentence, \\\n",
    "              remove_stopwords ))\n",
    "    #\n",
    "    # Return the list of sentences (each sentence is a list of words,\n",
    "    # so this returns a list of lists\n",
    "    return sentences"
   ]
  },
  {
   "cell_type": "code",
   "execution_count": 9,
   "metadata": {
    "collapsed": false
   },
   "outputs": [
    {
     "name": "stdout",
     "output_type": "stream",
     "text": [
      "Parsing sentences from training set\n"
     ]
    },
    {
     "name": "stderr",
     "output_type": "stream",
     "text": [
      "C:\\Users\\Xin\\Anaconda3\\envs\\ipykernel_py2\\lib\\site-packages\\bs4\\__init__.py:219: UserWarning: \".\" looks like a filename, not markup. You shouldprobably open this file and pass the filehandle intoBeautiful Soup.\n",
      "  'Beautiful Soup.' % markup)\n",
      "C:\\Users\\Xin\\Anaconda3\\envs\\ipykernel_py2\\lib\\site-packages\\bs4\\__init__.py:219: UserWarning: \"...\" looks like a filename, not markup. You shouldprobably open this file and pass the filehandle intoBeautiful Soup.\n",
      "  'Beautiful Soup.' % markup)\n",
      "C:\\Users\\Xin\\Anaconda3\\envs\\ipykernel_py2\\lib\\site-packages\\bs4\\__init__.py:282: UserWarning: \"http://www.happierabroad.com\"\" looks like a URL. Beautiful Soup is not an HTTP client. You should probably use an HTTP client like requests to get the document behind the URL, and feed that document to Beautiful Soup.\n",
      "  ' that document to Beautiful Soup.' % decoded_markup\n"
     ]
    },
    {
     "name": "stdout",
     "output_type": "stream",
     "text": [
      "Parsing sentences from unlabeled set\n"
     ]
    },
    {
     "name": "stderr",
     "output_type": "stream",
     "text": [
      "C:\\Users\\Xin\\Anaconda3\\envs\\ipykernel_py2\\lib\\site-packages\\bs4\\__init__.py:282: UserWarning: \"http://www.archive.org/details/LovefromaStranger\"\" looks like a URL. Beautiful Soup is not an HTTP client. You should probably use an HTTP client like requests to get the document behind the URL, and feed that document to Beautiful Soup.\n",
      "  ' that document to Beautiful Soup.' % decoded_markup\n",
      "C:\\Users\\Xin\\Anaconda3\\envs\\ipykernel_py2\\lib\\site-packages\\bs4\\__init__.py:282: UserWarning: \"http://www.loosechangeguide.com/LooseChangeGuide.html\"\" looks like a URL. Beautiful Soup is not an HTTP client. You should probably use an HTTP client like requests to get the document behind the URL, and feed that document to Beautiful Soup.\n",
      "  ' that document to Beautiful Soup.' % decoded_markup\n",
      "C:\\Users\\Xin\\Anaconda3\\envs\\ipykernel_py2\\lib\\site-packages\\bs4\\__init__.py:219: UserWarning: \"... ...\" looks like a filename, not markup. You shouldprobably open this file and pass the filehandle intoBeautiful Soup.\n",
      "  'Beautiful Soup.' % markup)\n",
      "C:\\Users\\Xin\\Anaconda3\\envs\\ipykernel_py2\\lib\\site-packages\\bs4\\__init__.py:219: UserWarning: \"....\" looks like a filename, not markup. You shouldprobably open this file and pass the filehandle intoBeautiful Soup.\n",
      "  'Beautiful Soup.' % markup)\n",
      "C:\\Users\\Xin\\Anaconda3\\envs\\ipykernel_py2\\lib\\site-packages\\bs4\\__init__.py:282: UserWarning: \"http://www.msnbc.msn.com/id/4972055/site/newsweek/\"\" looks like a URL. Beautiful Soup is not an HTTP client. You should probably use an HTTP client like requests to get the document behind the URL, and feed that document to Beautiful Soup.\n",
      "  ' that document to Beautiful Soup.' % decoded_markup\n",
      "C:\\Users\\Xin\\Anaconda3\\envs\\ipykernel_py2\\lib\\site-packages\\bs4\\__init__.py:219: UserWarning: \"..\" looks like a filename, not markup. You shouldprobably open this file and pass the filehandle intoBeautiful Soup.\n",
      "  'Beautiful Soup.' % markup)\n",
      "C:\\Users\\Xin\\Anaconda3\\envs\\ipykernel_py2\\lib\\site-packages\\bs4\\__init__.py:282: UserWarning: \"http://www.youtube.com/watch?v=a0KSqelmgN8\"\" looks like a URL. Beautiful Soup is not an HTTP client. You should probably use an HTTP client like requests to get the document behind the URL, and feed that document to Beautiful Soup.\n",
      "  ' that document to Beautiful Soup.' % decoded_markup\n",
      "C:\\Users\\Xin\\Anaconda3\\envs\\ipykernel_py2\\lib\\site-packages\\bs4\\__init__.py:219: UserWarning: \".. .\" looks like a filename, not markup. You shouldprobably open this file and pass the filehandle intoBeautiful Soup.\n",
      "  'Beautiful Soup.' % markup)\n",
      "C:\\Users\\Xin\\Anaconda3\\envs\\ipykernel_py2\\lib\\site-packages\\bs4\\__init__.py:282: UserWarning: \"http://jake-weird.blogspot.com/2007/08/beneath.html\"\" looks like a URL. Beautiful Soup is not an HTTP client. You should probably use an HTTP client like requests to get the document behind the URL, and feed that document to Beautiful Soup.\n",
      "  ' that document to Beautiful Soup.' % decoded_markup\n"
     ]
    }
   ],
   "source": [
    "sentences = []  # Initialize an empty list of sentences\n",
    "\n",
    "print \"Parsing sentences from training set\"\n",
    "for review in train[\"review\"]:\n",
    "    sentences += review_to_sentences(review.decode(\"utf8\"), tokenizer)\n",
    "\n",
    "print \"Parsing sentences from unlabeled set\"\n",
    "for review in unlabeled_train[\"review\"]:\n",
    "    sentences += review_to_sentences(review.decode(\"utf8\"), tokenizer)\n"
   ]
  },
  {
   "cell_type": "code",
   "execution_count": 12,
   "metadata": {
    "collapsed": false
   },
   "outputs": [
    {
     "name": "stdout",
     "output_type": "stream",
     "text": [
      "795538\n",
      "[u'with', u'all', u'this', u'stuff', u'going', u'down', u'at', u'the', u'moment', u'with', u'mj', u'i', u've', u'started', u'listening', u'to', u'his', u'music', u'watching', u'the', u'odd', u'documentary', u'here', u'and', u'there', u'watched', u'the', u'wiz', u'and', u'watched', u'moonwalker', u'again']\n",
      "[u'maybe', u'i', u'just', u'want', u'to', u'get', u'a', u'certain', u'insight', u'into', u'this', u'guy', u'who', u'i', u'thought', u'was', u'really', u'cool', u'in', u'the', u'eighties', u'just', u'to', u'maybe', u'make', u'up', u'my', u'mind', u'whether', u'he', u'is', u'guilty', u'or', u'innocent']\n"
     ]
    }
   ],
   "source": [
    "print len(sentences)\n",
    "print sentences[0]\n",
    "print sentences[1]"
   ]
  },
  {
   "cell_type": "code",
   "execution_count": 14,
   "metadata": {
    "collapsed": false
   },
   "outputs": [
    {
     "name": "stderr",
     "output_type": "stream",
     "text": [
      "2016-10-22 20:43:54,994 : INFO : detected Windows; aliasing chunkize to chunkize_serial\n",
      "2016-10-22 20:43:55,200 : INFO : Pattern library is not installed, lemmatization won't be available.\n",
      "2016-10-22 20:43:55,217 : INFO : Could not import Theano, will use standard float for default ShardedCorpus dtype.\n",
      "2016-10-22 20:43:55,585 : INFO : 'pattern' package not found; tag filters are not available for English\n",
      "2016-10-22 20:43:55,721 : INFO : collecting all words and their counts\n",
      "2016-10-22 20:43:55,723 : INFO : PROGRESS: at sentence #0, processed 0 words, keeping 0 word types\n",
      "2016-10-22 20:43:55,822 : INFO : PROGRESS: at sentence #10000, processed 225803 words, keeping 17776 word types\n",
      "2016-10-22 20:43:55,904 : INFO : PROGRESS: at sentence #20000, processed 451892 words, keeping 24948 word types\n"
     ]
    },
    {
     "name": "stdout",
     "output_type": "stream",
     "text": [
      "Training model...\n"
     ]
    },
    {
     "name": "stderr",
     "output_type": "stream",
     "text": [
      "2016-10-22 20:43:56,013 : INFO : PROGRESS: at sentence #30000, processed 671314 words, keeping 30034 word types\n",
      "2016-10-22 20:43:56,095 : INFO : PROGRESS: at sentence #40000, processed 897814 words, keeping 34348 word types\n",
      "2016-10-22 20:43:56,170 : INFO : PROGRESS: at sentence #50000, processed 1116962 words, keeping 37761 word types\n",
      "2016-10-22 20:43:56,249 : INFO : PROGRESS: at sentence #60000, processed 1338403 words, keeping 40723 word types\n",
      "2016-10-22 20:43:56,323 : INFO : PROGRESS: at sentence #70000, processed 1561579 words, keeping 43333 word types\n",
      "2016-10-22 20:43:56,404 : INFO : PROGRESS: at sentence #80000, processed 1780886 words, keeping 45714 word types\n",
      "2016-10-22 20:43:56,484 : INFO : PROGRESS: at sentence #90000, processed 2004995 words, keeping 48135 word types\n",
      "2016-10-22 20:43:56,562 : INFO : PROGRESS: at sentence #100000, processed 2226966 words, keeping 50207 word types\n",
      "2016-10-22 20:43:56,642 : INFO : PROGRESS: at sentence #110000, processed 2446580 words, keeping 52081 word types\n",
      "2016-10-22 20:43:56,719 : INFO : PROGRESS: at sentence #120000, processed 2668775 words, keeping 54119 word types\n",
      "2016-10-22 20:43:56,796 : INFO : PROGRESS: at sentence #130000, processed 2894303 words, keeping 55847 word types\n",
      "2016-10-22 20:43:56,872 : INFO : PROGRESS: at sentence #140000, processed 3107005 words, keeping 57346 word types\n",
      "2016-10-22 20:43:56,951 : INFO : PROGRESS: at sentence #150000, processed 3332627 words, keeping 59055 word types\n",
      "2016-10-22 20:43:57,006 : INFO : PROGRESS: at sentence #160000, processed 3555315 words, keeping 60617 word types\n",
      "2016-10-22 20:43:57,056 : INFO : PROGRESS: at sentence #170000, processed 3778655 words, keeping 62077 word types\n",
      "2016-10-22 20:43:57,153 : INFO : PROGRESS: at sentence #180000, processed 3999236 words, keeping 63496 word types\n",
      "2016-10-22 20:43:57,240 : INFO : PROGRESS: at sentence #190000, processed 4224449 words, keeping 64794 word types\n",
      "2016-10-22 20:43:57,319 : INFO : PROGRESS: at sentence #200000, processed 4448603 words, keeping 66087 word types\n",
      "2016-10-22 20:43:57,401 : INFO : PROGRESS: at sentence #210000, processed 4669967 words, keeping 67390 word types\n",
      "2016-10-22 20:43:57,483 : INFO : PROGRESS: at sentence #220000, processed 4894968 words, keeping 68697 word types\n",
      "2016-10-22 20:43:57,538 : INFO : PROGRESS: at sentence #230000, processed 5117545 words, keeping 69958 word types\n",
      "2016-10-22 20:43:57,619 : INFO : PROGRESS: at sentence #240000, processed 5345050 words, keeping 71167 word types\n",
      "2016-10-22 20:43:57,694 : INFO : PROGRESS: at sentence #250000, processed 5559165 words, keeping 72351 word types\n",
      "2016-10-22 20:43:57,802 : INFO : PROGRESS: at sentence #260000, processed 5779146 words, keeping 73478 word types\n",
      "2016-10-22 20:43:57,890 : INFO : PROGRESS: at sentence #270000, processed 6000435 words, keeping 74767 word types\n",
      "2016-10-22 20:43:57,974 : INFO : PROGRESS: at sentence #280000, processed 6226314 words, keeping 76369 word types\n",
      "2016-10-22 20:43:58,045 : INFO : PROGRESS: at sentence #290000, processed 6449474 words, keeping 77839 word types\n",
      "2016-10-22 20:43:58,141 : INFO : PROGRESS: at sentence #300000, processed 6674077 words, keeping 79171 word types\n",
      "2016-10-22 20:43:58,226 : INFO : PROGRESS: at sentence #310000, processed 6899391 words, keeping 80480 word types\n",
      "2016-10-22 20:43:58,331 : INFO : PROGRESS: at sentence #320000, processed 7124278 words, keeping 81808 word types\n",
      "2016-10-22 20:43:58,415 : INFO : PROGRESS: at sentence #330000, processed 7346021 words, keeping 83030 word types\n",
      "2016-10-22 20:43:58,506 : INFO : PROGRESS: at sentence #340000, processed 7575533 words, keeping 84280 word types\n",
      "2016-10-22 20:43:58,592 : INFO : PROGRESS: at sentence #350000, processed 7798803 words, keeping 85425 word types\n",
      "2016-10-22 20:43:58,680 : INFO : PROGRESS: at sentence #360000, processed 8019466 words, keeping 86596 word types\n",
      "2016-10-22 20:43:58,780 : INFO : PROGRESS: at sentence #370000, processed 8246654 words, keeping 87708 word types\n",
      "2016-10-22 20:43:58,871 : INFO : PROGRESS: at sentence #380000, processed 8471801 words, keeping 88878 word types\n",
      "2016-10-22 20:43:58,963 : INFO : PROGRESS: at sentence #390000, processed 8701551 words, keeping 89907 word types\n",
      "2016-10-22 20:43:59,020 : INFO : PROGRESS: at sentence #400000, processed 8924500 words, keeping 90916 word types\n",
      "2016-10-22 20:43:59,081 : INFO : PROGRESS: at sentence #410000, processed 9145850 words, keeping 91880 word types\n",
      "2016-10-22 20:43:59,174 : INFO : PROGRESS: at sentence #420000, processed 9366930 words, keeping 92912 word types\n",
      "2016-10-22 20:43:59,273 : INFO : PROGRESS: at sentence #430000, processed 9594467 words, keeping 93932 word types\n",
      "2016-10-22 20:43:59,361 : INFO : PROGRESS: at sentence #440000, processed 9821218 words, keeping 94906 word types\n",
      "2016-10-22 20:43:59,453 : INFO : PROGRESS: at sentence #450000, processed 10044980 words, keeping 96036 word types\n",
      "2016-10-22 20:43:59,536 : INFO : PROGRESS: at sentence #460000, processed 10277740 words, keeping 97088 word types\n",
      "2016-10-22 20:43:59,622 : INFO : PROGRESS: at sentence #470000, processed 10505665 words, keeping 97933 word types\n",
      "2016-10-22 20:43:59,706 : INFO : PROGRESS: at sentence #480000, processed 10726049 words, keeping 98862 word types\n",
      "2016-10-22 20:43:59,793 : INFO : PROGRESS: at sentence #490000, processed 10952793 words, keeping 99871 word types\n",
      "2016-10-22 20:43:59,881 : INFO : PROGRESS: at sentence #500000, processed 11174449 words, keeping 100765 word types\n",
      "2016-10-22 20:43:59,941 : INFO : PROGRESS: at sentence #510000, processed 11399724 words, keeping 101699 word types\n",
      "2016-10-22 20:44:00,055 : INFO : PROGRESS: at sentence #520000, processed 11623075 words, keeping 102598 word types\n",
      "2016-10-22 20:44:00,141 : INFO : PROGRESS: at sentence #530000, processed 11847473 words, keeping 103400 word types\n",
      "2016-10-22 20:44:00,229 : INFO : PROGRESS: at sentence #540000, processed 12072088 words, keeping 104265 word types\n",
      "2016-10-22 20:44:00,296 : INFO : PROGRESS: at sentence #550000, processed 12297639 words, keeping 105133 word types\n",
      "2016-10-22 20:44:00,404 : INFO : PROGRESS: at sentence #560000, processed 12518929 words, keeping 105997 word types\n",
      "2016-10-22 20:44:00,493 : INFO : PROGRESS: at sentence #570000, processed 12748076 words, keeping 106787 word types\n",
      "2016-10-22 20:44:00,575 : INFO : PROGRESS: at sentence #580000, processed 12969572 words, keeping 107665 word types\n",
      "2016-10-22 20:44:00,664 : INFO : PROGRESS: at sentence #590000, processed 13195097 words, keeping 108501 word types\n",
      "2016-10-22 20:44:00,753 : INFO : PROGRESS: at sentence #600000, processed 13417295 words, keeping 109218 word types\n",
      "2016-10-22 20:44:00,838 : INFO : PROGRESS: at sentence #610000, processed 13638318 words, keeping 110092 word types\n",
      "2016-10-22 20:44:00,924 : INFO : PROGRESS: at sentence #620000, processed 13864643 words, keeping 110837 word types\n",
      "2016-10-22 20:44:01,015 : INFO : PROGRESS: at sentence #630000, processed 14088929 words, keeping 111610 word types\n",
      "2016-10-22 20:44:01,101 : INFO : PROGRESS: at sentence #640000, processed 14309712 words, keeping 112416 word types\n",
      "2016-10-22 20:44:01,191 : INFO : PROGRESS: at sentence #650000, processed 14535468 words, keeping 113196 word types\n",
      "2016-10-22 20:44:01,276 : INFO : PROGRESS: at sentence #660000, processed 14758258 words, keeping 113945 word types\n",
      "2016-10-22 20:44:01,361 : INFO : PROGRESS: at sentence #670000, processed 14981651 words, keeping 114643 word types\n",
      "2016-10-22 20:44:01,453 : INFO : PROGRESS: at sentence #680000, processed 15206483 words, keeping 115354 word types\n",
      "2016-10-22 20:44:01,536 : INFO : PROGRESS: at sentence #690000, processed 15428676 words, keeping 116131 word types\n",
      "2016-10-22 20:44:01,628 : INFO : PROGRESS: at sentence #700000, processed 15657382 words, keeping 116943 word types\n",
      "2016-10-22 20:44:01,720 : INFO : PROGRESS: at sentence #710000, processed 15880371 words, keeping 117596 word types\n",
      "2016-10-22 20:44:01,803 : INFO : PROGRESS: at sentence #720000, processed 16105658 words, keeping 118221 word types\n",
      "2016-10-22 20:44:01,890 : INFO : PROGRESS: at sentence #730000, processed 16332039 words, keeping 118954 word types\n",
      "2016-10-22 20:44:01,973 : INFO : PROGRESS: at sentence #740000, processed 16553072 words, keeping 119668 word types\n",
      "2016-10-22 20:44:02,061 : INFO : PROGRESS: at sentence #750000, processed 16771399 words, keeping 120295 word types\n",
      "2016-10-22 20:44:02,145 : INFO : PROGRESS: at sentence #760000, processed 16990803 words, keeping 120930 word types\n",
      "2016-10-22 20:44:02,236 : INFO : PROGRESS: at sentence #770000, processed 17217940 words, keeping 121703 word types\n",
      "2016-10-22 20:44:02,321 : INFO : PROGRESS: at sentence #780000, processed 17448086 words, keeping 122402 word types\n",
      "2016-10-22 20:44:02,411 : INFO : PROGRESS: at sentence #790000, processed 17675162 words, keeping 123066 word types\n",
      "2016-10-22 20:44:02,473 : INFO : collected 123504 word types from a corpus of 17798263 raw words and 795538 sentences\n",
      "2016-10-22 20:44:02,615 : INFO : min_count=40 retains 16490 unique words (drops 107014)\n",
      "2016-10-22 20:44:02,617 : INFO : min_count leaves 17239118 word corpus (96% of original 17798263)\n",
      "2016-10-22 20:44:02,698 : INFO : deleting the raw counts dictionary of 123504 items\n",
      "2016-10-22 20:44:02,720 : INFO : sample=0.001 downsamples 48 most-common words\n",
      "2016-10-22 20:44:02,724 : INFO : downsampling leaves estimated 12749794 word corpus (74.0% of prior 17239118)\n",
      "2016-10-22 20:44:02,726 : INFO : estimated required memory for 16490 words and 300 dimensions: 47821000 bytes\n",
      "2016-10-22 20:44:02,855 : INFO : resetting layer weights\n",
      "2016-10-22 20:44:03,164 : INFO : training model with 4 workers on 16490 vocabulary and 300 features, using sg=0 hs=0 sample=0.001 negative=5\n",
      "2016-10-22 20:44:03,164 : INFO : expecting 795538 sentences, matching count from corpus used for vocabulary survey\n",
      "2016-10-22 20:44:04,246 : INFO : PROGRESS: at 0.87% examples, 554395 words/s, in_qsize 7, out_qsize 0\n",
      "2016-10-22 20:44:05,255 : INFO : PROGRESS: at 1.73% examples, 548144 words/s, in_qsize 8, out_qsize 0\n",
      "2016-10-22 20:44:06,263 : INFO : PROGRESS: at 2.61% examples, 547892 words/s, in_qsize 7, out_qsize 0\n",
      "2016-10-22 20:44:07,255 : INFO : PROGRESS: at 3.46% examples, 544976 words/s, in_qsize 8, out_qsize 0\n",
      "2016-10-22 20:44:08,256 : INFO : PROGRESS: at 4.20% examples, 530149 words/s, in_qsize 8, out_qsize 0\n",
      "2016-10-22 20:44:09,266 : INFO : PROGRESS: at 4.96% examples, 521598 words/s, in_qsize 8, out_qsize 0\n",
      "2016-10-22 20:44:10,259 : INFO : PROGRESS: at 5.70% examples, 514407 words/s, in_qsize 7, out_qsize 0\n",
      "2016-10-22 20:44:11,265 : INFO : PROGRESS: at 6.45% examples, 508670 words/s, in_qsize 8, out_qsize 0\n",
      "2016-10-22 20:44:12,276 : INFO : PROGRESS: at 7.19% examples, 504402 words/s, in_qsize 7, out_qsize 0\n",
      "2016-10-22 20:44:13,289 : INFO : PROGRESS: at 7.94% examples, 501190 words/s, in_qsize 7, out_qsize 0\n",
      "2016-10-22 20:44:14,296 : INFO : PROGRESS: at 8.68% examples, 498908 words/s, in_qsize 7, out_qsize 0\n",
      "2016-10-22 20:44:15,302 : INFO : PROGRESS: at 9.43% examples, 497098 words/s, in_qsize 6, out_qsize 0\n",
      "2016-10-22 20:44:16,311 : INFO : PROGRESS: at 10.17% examples, 494855 words/s, in_qsize 8, out_qsize 0\n",
      "2016-10-22 20:44:17,306 : INFO : PROGRESS: at 10.91% examples, 493060 words/s, in_qsize 8, out_qsize 0\n",
      "2016-10-22 20:44:18,316 : INFO : PROGRESS: at 11.66% examples, 492489 words/s, in_qsize 7, out_qsize 0\n",
      "2016-10-22 20:44:19,309 : INFO : PROGRESS: at 12.39% examples, 491150 words/s, in_qsize 7, out_qsize 0\n",
      "2016-10-22 20:44:20,319 : INFO : PROGRESS: at 13.15% examples, 490157 words/s, in_qsize 7, out_qsize 0\n",
      "2016-10-22 20:44:21,341 : INFO : PROGRESS: at 13.90% examples, 489224 words/s, in_qsize 7, out_qsize 0\n",
      "2016-10-22 20:44:22,338 : INFO : PROGRESS: at 14.62% examples, 487842 words/s, in_qsize 8, out_qsize 0\n",
      "2016-10-22 20:44:23,345 : INFO : PROGRESS: at 15.36% examples, 486889 words/s, in_qsize 8, out_qsize 0\n",
      "2016-10-22 20:44:24,348 : INFO : PROGRESS: at 16.12% examples, 486425 words/s, in_qsize 7, out_qsize 0\n",
      "2016-10-22 20:44:25,358 : INFO : PROGRESS: at 16.87% examples, 486070 words/s, in_qsize 7, out_qsize 0\n",
      "2016-10-22 20:44:26,361 : INFO : PROGRESS: at 17.60% examples, 485192 words/s, in_qsize 7, out_qsize 0\n",
      "2016-10-22 20:44:27,364 : INFO : PROGRESS: at 18.35% examples, 484905 words/s, in_qsize 8, out_qsize 0\n",
      "2016-10-22 20:44:28,371 : INFO : PROGRESS: at 19.11% examples, 484249 words/s, in_qsize 7, out_qsize 0\n",
      "2016-10-22 20:44:29,385 : INFO : PROGRESS: at 19.83% examples, 483660 words/s, in_qsize 7, out_qsize 0\n",
      "2016-10-22 20:44:30,390 : INFO : PROGRESS: at 20.59% examples, 483676 words/s, in_qsize 7, out_qsize 0\n",
      "2016-10-22 20:44:31,404 : INFO : PROGRESS: at 21.38% examples, 484006 words/s, in_qsize 7, out_qsize 0\n",
      "2016-10-22 20:44:32,407 : INFO : PROGRESS: at 22.16% examples, 484314 words/s, in_qsize 7, out_qsize 0\n",
      "2016-10-22 20:44:33,414 : INFO : PROGRESS: at 22.95% examples, 484500 words/s, in_qsize 7, out_qsize 0\n",
      "2016-10-22 20:44:34,417 : INFO : PROGRESS: at 23.73% examples, 484603 words/s, in_qsize 7, out_qsize 0\n",
      "2016-10-22 20:44:35,427 : INFO : PROGRESS: at 24.51% examples, 484834 words/s, in_qsize 6, out_qsize 0\n",
      "2016-10-22 20:44:36,427 : INFO : PROGRESS: at 25.28% examples, 485009 words/s, in_qsize 8, out_qsize 0\n",
      "2016-10-22 20:44:37,438 : INFO : PROGRESS: at 26.05% examples, 485065 words/s, in_qsize 8, out_qsize 0\n",
      "2016-10-22 20:44:38,448 : INFO : PROGRESS: at 26.84% examples, 485139 words/s, in_qsize 8, out_qsize 0\n",
      "2016-10-22 20:44:39,463 : INFO : PROGRESS: at 27.63% examples, 485386 words/s, in_qsize 7, out_qsize 0\n",
      "2016-10-22 20:44:40,463 : INFO : PROGRESS: at 28.38% examples, 485402 words/s, in_qsize 7, out_qsize 0\n",
      "2016-10-22 20:44:41,467 : INFO : PROGRESS: at 29.16% examples, 485551 words/s, in_qsize 7, out_qsize 0\n",
      "2016-10-22 20:44:42,476 : INFO : PROGRESS: at 29.91% examples, 485553 words/s, in_qsize 7, out_qsize 0\n",
      "2016-10-22 20:44:43,480 : INFO : PROGRESS: at 30.69% examples, 485708 words/s, in_qsize 8, out_qsize 0\n",
      "2016-10-22 20:44:44,484 : INFO : PROGRESS: at 31.45% examples, 485835 words/s, in_qsize 5, out_qsize 0\n",
      "2016-10-22 20:44:45,496 : INFO : PROGRESS: at 32.19% examples, 485537 words/s, in_qsize 8, out_qsize 0\n",
      "2016-10-22 20:44:46,494 : INFO : PROGRESS: at 32.89% examples, 484493 words/s, in_qsize 8, out_qsize 0\n",
      "2016-10-22 20:44:47,507 : INFO : PROGRESS: at 33.64% examples, 484242 words/s, in_qsize 8, out_qsize 0\n",
      "2016-10-22 20:44:48,525 : INFO : PROGRESS: at 34.36% examples, 483706 words/s, in_qsize 7, out_qsize 0\n",
      "2016-10-22 20:44:49,528 : INFO : PROGRESS: at 35.13% examples, 483649 words/s, in_qsize 7, out_qsize 0\n",
      "2016-10-22 20:44:50,536 : INFO : PROGRESS: at 35.90% examples, 483775 words/s, in_qsize 7, out_qsize 0\n",
      "2016-10-22 20:44:51,546 : INFO : PROGRESS: at 36.68% examples, 483847 words/s, in_qsize 8, out_qsize 0\n",
      "2016-10-22 20:44:52,561 : INFO : PROGRESS: at 37.45% examples, 483910 words/s, in_qsize 7, out_qsize 0\n",
      "2016-10-22 20:44:53,571 : INFO : PROGRESS: at 38.22% examples, 484079 words/s, in_qsize 7, out_qsize 0\n",
      "2016-10-22 20:44:54,576 : INFO : PROGRESS: at 39.00% examples, 484126 words/s, in_qsize 7, out_qsize 0\n",
      "2016-10-22 20:44:55,578 : INFO : PROGRESS: at 39.75% examples, 484143 words/s, in_qsize 8, out_qsize 0\n",
      "2016-10-22 20:44:56,594 : INFO : PROGRESS: at 40.52% examples, 484263 words/s, in_qsize 8, out_qsize 0\n",
      "2016-10-22 20:44:57,586 : INFO : PROGRESS: at 41.28% examples, 484149 words/s, in_qsize 8, out_qsize 0\n",
      "2016-10-22 20:44:58,592 : INFO : PROGRESS: at 42.07% examples, 484394 words/s, in_qsize 7, out_qsize 0\n",
      "2016-10-22 20:44:59,592 : INFO : PROGRESS: at 42.84% examples, 484302 words/s, in_qsize 8, out_qsize 0\n",
      "2016-10-22 20:45:00,599 : INFO : PROGRESS: at 43.62% examples, 484400 words/s, in_qsize 8, out_qsize 0\n",
      "2016-10-22 20:45:01,609 : INFO : PROGRESS: at 44.40% examples, 484536 words/s, in_qsize 7, out_qsize 0\n",
      "2016-10-22 20:45:02,617 : INFO : PROGRESS: at 45.16% examples, 484491 words/s, in_qsize 7, out_qsize 0\n",
      "2016-10-22 20:45:03,631 : INFO : PROGRESS: at 45.94% examples, 484569 words/s, in_qsize 7, out_qsize 0\n",
      "2016-10-22 20:45:04,642 : INFO : PROGRESS: at 46.73% examples, 484685 words/s, in_qsize 7, out_qsize 0\n",
      "2016-10-22 20:45:05,644 : INFO : PROGRESS: at 47.50% examples, 484747 words/s, in_qsize 7, out_qsize 0\n",
      "2016-10-22 20:45:06,651 : INFO : PROGRESS: at 48.28% examples, 484837 words/s, in_qsize 8, out_qsize 0\n",
      "2016-10-22 20:45:07,676 : INFO : PROGRESS: at 49.05% examples, 484842 words/s, in_qsize 7, out_qsize 0\n",
      "2016-10-22 20:45:08,681 : INFO : PROGRESS: at 49.81% examples, 484926 words/s, in_qsize 8, out_qsize 0\n",
      "2016-10-22 20:45:09,688 : INFO : PROGRESS: at 50.58% examples, 484899 words/s, in_qsize 7, out_qsize 0\n",
      "2016-10-22 20:45:10,680 : INFO : PROGRESS: at 51.34% examples, 485008 words/s, in_qsize 7, out_qsize 0\n",
      "2016-10-22 20:45:11,680 : INFO : PROGRESS: at 52.11% examples, 485127 words/s, in_qsize 8, out_qsize 0\n",
      "2016-10-22 20:45:12,693 : INFO : PROGRESS: at 52.88% examples, 485172 words/s, in_qsize 7, out_qsize 0\n",
      "2016-10-22 20:45:13,704 : INFO : PROGRESS: at 53.64% examples, 485158 words/s, in_qsize 7, out_qsize 0\n",
      "2016-10-22 20:45:14,717 : INFO : PROGRESS: at 54.41% examples, 485137 words/s, in_qsize 8, out_qsize 0\n",
      "2016-10-22 20:45:15,733 : INFO : PROGRESS: at 55.20% examples, 485304 words/s, in_qsize 8, out_qsize 0\n",
      "2016-10-22 20:45:16,739 : INFO : PROGRESS: at 55.97% examples, 485373 words/s, in_qsize 7, out_qsize 0\n",
      "2016-10-22 20:45:17,749 : INFO : PROGRESS: at 56.74% examples, 485331 words/s, in_qsize 7, out_qsize 0\n",
      "2016-10-22 20:45:18,752 : INFO : PROGRESS: at 57.50% examples, 485273 words/s, in_qsize 8, out_qsize 0\n",
      "2016-10-22 20:45:19,763 : INFO : PROGRESS: at 58.25% examples, 485258 words/s, in_qsize 7, out_qsize 0\n",
      "2016-10-22 20:45:20,775 : INFO : PROGRESS: at 59.05% examples, 485393 words/s, in_qsize 8, out_qsize 0\n",
      "2016-10-22 20:45:21,766 : INFO : PROGRESS: at 59.80% examples, 485402 words/s, in_qsize 8, out_qsize 0\n",
      "2016-10-22 20:45:22,776 : INFO : PROGRESS: at 60.57% examples, 485492 words/s, in_qsize 7, out_qsize 0\n",
      "2016-10-22 20:45:23,769 : INFO : PROGRESS: at 61.34% examples, 485488 words/s, in_qsize 8, out_qsize 0\n",
      "2016-10-22 20:45:24,798 : INFO : PROGRESS: at 62.13% examples, 485509 words/s, in_qsize 7, out_qsize 0\n",
      "2016-10-22 20:45:25,799 : INFO : PROGRESS: at 62.91% examples, 485591 words/s, in_qsize 8, out_qsize 0\n",
      "2016-10-22 20:45:26,816 : INFO : PROGRESS: at 63.67% examples, 485461 words/s, in_qsize 7, out_qsize 0\n",
      "2016-10-22 20:45:27,819 : INFO : PROGRESS: at 64.39% examples, 485036 words/s, in_qsize 7, out_qsize 0\n",
      "2016-10-22 20:45:28,834 : INFO : PROGRESS: at 65.15% examples, 484962 words/s, in_qsize 7, out_qsize 0\n",
      "2016-10-22 20:45:29,834 : INFO : PROGRESS: at 65.91% examples, 484969 words/s, in_qsize 7, out_qsize 0\n",
      "2016-10-22 20:45:30,845 : INFO : PROGRESS: at 66.69% examples, 484914 words/s, in_qsize 8, out_qsize 0\n",
      "2016-10-22 20:45:31,871 : INFO : PROGRESS: at 67.45% examples, 484735 words/s, in_qsize 7, out_qsize 0\n",
      "2016-10-22 20:45:32,881 : INFO : PROGRESS: at 68.21% examples, 484738 words/s, in_qsize 6, out_qsize 0\n",
      "2016-10-22 20:45:33,880 : INFO : PROGRESS: at 68.97% examples, 484732 words/s, in_qsize 7, out_qsize 0\n",
      "2016-10-22 20:45:34,890 : INFO : PROGRESS: at 69.72% examples, 484734 words/s, in_qsize 7, out_qsize 0\n",
      "2016-10-22 20:45:35,891 : INFO : PROGRESS: at 70.50% examples, 484783 words/s, in_qsize 7, out_qsize 0\n",
      "2016-10-22 20:45:36,907 : INFO : PROGRESS: at 71.25% examples, 484758 words/s, in_qsize 8, out_qsize 0\n",
      "2016-10-22 20:45:37,905 : INFO : PROGRESS: at 72.00% examples, 484736 words/s, in_qsize 8, out_qsize 0\n",
      "2016-10-22 20:45:38,920 : INFO : PROGRESS: at 72.78% examples, 484793 words/s, in_qsize 7, out_qsize 0\n",
      "2016-10-22 20:45:39,914 : INFO : PROGRESS: at 73.54% examples, 484796 words/s, in_qsize 8, out_qsize 0\n",
      "2016-10-22 20:45:40,928 : INFO : PROGRESS: at 74.31% examples, 484816 words/s, in_qsize 7, out_qsize 0\n",
      "2016-10-22 20:45:41,940 : INFO : PROGRESS: at 75.08% examples, 484854 words/s, in_qsize 7, out_qsize 0\n",
      "2016-10-22 20:45:42,950 : INFO : PROGRESS: at 75.86% examples, 484884 words/s, in_qsize 8, out_qsize 0\n",
      "2016-10-22 20:45:43,963 : INFO : PROGRESS: at 76.57% examples, 484520 words/s, in_qsize 7, out_qsize 0\n",
      "2016-10-22 20:45:44,984 : INFO : PROGRESS: at 77.24% examples, 483883 words/s, in_qsize 8, out_qsize 0\n",
      "2016-10-22 20:45:46,000 : INFO : PROGRESS: at 77.91% examples, 483235 words/s, in_qsize 8, out_qsize 0\n",
      "2016-10-22 20:45:47,009 : INFO : PROGRESS: at 78.60% examples, 482808 words/s, in_qsize 7, out_qsize 0\n",
      "2016-10-22 20:45:48,023 : INFO : PROGRESS: at 79.27% examples, 482155 words/s, in_qsize 7, out_qsize 0\n",
      "2016-10-22 20:45:49,035 : INFO : PROGRESS: at 79.92% examples, 481540 words/s, in_qsize 8, out_qsize 0\n",
      "2016-10-22 20:45:50,043 : INFO : PROGRESS: at 80.58% examples, 480940 words/s, in_qsize 8, out_qsize 0\n",
      "2016-10-22 20:45:51,051 : INFO : PROGRESS: at 81.26% examples, 480420 words/s, in_qsize 8, out_qsize 0\n",
      "2016-10-22 20:45:52,063 : INFO : PROGRESS: at 81.93% examples, 479863 words/s, in_qsize 7, out_qsize 0\n",
      "2016-10-22 20:45:53,082 : INFO : PROGRESS: at 82.61% examples, 479290 words/s, in_qsize 8, out_qsize 0\n",
      "2016-10-22 20:45:54,108 : INFO : PROGRESS: at 83.29% examples, 478762 words/s, in_qsize 7, out_qsize 0\n",
      "2016-10-22 20:45:55,117 : INFO : PROGRESS: at 83.96% examples, 478278 words/s, in_qsize 7, out_qsize 0\n",
      "2016-10-22 20:45:56,138 : INFO : PROGRESS: at 84.64% examples, 477760 words/s, in_qsize 8, out_qsize 0\n",
      "2016-10-22 20:45:57,151 : INFO : PROGRESS: at 85.30% examples, 477217 words/s, in_qsize 8, out_qsize 0\n",
      "2016-10-22 20:45:58,142 : INFO : PROGRESS: at 85.95% examples, 476668 words/s, in_qsize 7, out_qsize 0\n",
      "2016-10-22 20:45:59,153 : INFO : PROGRESS: at 86.63% examples, 476149 words/s, in_qsize 7, out_qsize 0\n",
      "2016-10-22 20:46:00,168 : INFO : PROGRESS: at 87.28% examples, 475554 words/s, in_qsize 7, out_qsize 0\n",
      "2016-10-22 20:46:01,177 : INFO : PROGRESS: at 87.95% examples, 475164 words/s, in_qsize 7, out_qsize 0\n",
      "2016-10-22 20:46:02,194 : INFO : PROGRESS: at 88.64% examples, 474792 words/s, in_qsize 7, out_qsize 0\n",
      "2016-10-22 20:46:03,209 : INFO : PROGRESS: at 89.32% examples, 474454 words/s, in_qsize 7, out_qsize 0\n",
      "2016-10-22 20:46:04,201 : INFO : PROGRESS: at 90.00% examples, 474130 words/s, in_qsize 7, out_qsize 0\n",
      "2016-10-22 20:46:05,210 : INFO : PROGRESS: at 90.72% examples, 473956 words/s, in_qsize 8, out_qsize 0\n",
      "2016-10-22 20:46:06,211 : INFO : PROGRESS: at 91.41% examples, 473698 words/s, in_qsize 8, out_qsize 0\n",
      "2016-10-22 20:46:07,230 : INFO : PROGRESS: at 92.11% examples, 473474 words/s, in_qsize 6, out_qsize 0\n",
      "2016-10-22 20:46:08,236 : INFO : PROGRESS: at 92.80% examples, 473210 words/s, in_qsize 6, out_qsize 0\n",
      "2016-10-22 20:46:09,243 : INFO : PROGRESS: at 93.48% examples, 472854 words/s, in_qsize 7, out_qsize 0\n",
      "2016-10-22 20:46:10,250 : INFO : PROGRESS: at 94.19% examples, 472656 words/s, in_qsize 7, out_qsize 0\n",
      "2016-10-22 20:46:11,263 : INFO : PROGRESS: at 94.89% examples, 472475 words/s, in_qsize 5, out_qsize 0\n",
      "2016-10-22 20:46:12,272 : INFO : PROGRESS: at 95.57% examples, 472068 words/s, in_qsize 8, out_qsize 0\n",
      "2016-10-22 20:46:13,283 : INFO : PROGRESS: at 96.26% examples, 471805 words/s, in_qsize 8, out_qsize 0\n",
      "2016-10-22 20:46:14,293 : INFO : PROGRESS: at 96.98% examples, 471694 words/s, in_qsize 6, out_qsize 0\n",
      "2016-10-22 20:46:15,303 : INFO : PROGRESS: at 97.65% examples, 471335 words/s, in_qsize 7, out_qsize 0\n",
      "2016-10-22 20:46:16,311 : INFO : PROGRESS: at 98.35% examples, 471154 words/s, in_qsize 7, out_qsize 0\n",
      "2016-10-22 20:46:17,322 : INFO : PROGRESS: at 99.07% examples, 470934 words/s, in_qsize 8, out_qsize 0\n",
      "2016-10-22 20:46:18,325 : INFO : PROGRESS: at 99.75% examples, 470723 words/s, in_qsize 8, out_qsize 0\n",
      "2016-10-22 20:46:18,640 : INFO : worker thread finished; awaiting finish of 3 more threads\n",
      "2016-10-22 20:46:18,651 : INFO : worker thread finished; awaiting finish of 2 more threads\n",
      "2016-10-22 20:46:18,670 : INFO : worker thread finished; awaiting finish of 1 more threads\n",
      "2016-10-22 20:46:18,687 : INFO : worker thread finished; awaiting finish of 0 more threads\n",
      "2016-10-22 20:46:18,688 : INFO : training on 88991315 raw words (63744647 effective words) took 135.5s, 470613 effective words/s\n",
      "2016-10-22 20:46:18,690 : INFO : precomputing L2-norms of word weight vectors\n",
      "2016-10-22 20:46:18,882 : INFO : saving Word2Vec object under 300features_40minwords_10context, separately None\n",
      "2016-10-22 20:46:18,884 : INFO : not storing attribute syn0norm\n",
      "2016-10-22 20:46:18,885 : INFO : not storing attribute cum_table\n"
     ]
    }
   ],
   "source": [
    "import logging\n",
    "logging.basicConfig(format='%(asctime)s : %(levelname)s : %(message)s',\\\n",
    "    level=logging.INFO)\n",
    "\n",
    "# Set values for various parameters\n",
    "num_features = 300    # Word vector dimensionality                      \n",
    "min_word_count = 40   # Minimum word count                        \n",
    "num_workers = 4       # Number of threads to run in parallel\n",
    "context = 10          # Context window size                                                                                    \n",
    "downsampling = 1e-3   # Downsample setting for frequent words\n",
    "\n",
    "# Initialize and train the model (this will take some time)\n",
    "from gensim.models import word2vec\n",
    "print \"Training model...\"\n",
    "model = word2vec.Word2Vec(sentences, workers=num_workers, \\\n",
    "            size=num_features, min_count = min_word_count, \\\n",
    "            window = context, sample = downsampling)\n",
    "\n",
    "# If you don't plan to train the model any further, calling \n",
    "# init_sims will make the model much more memory-efficient.\n",
    "model.init_sims(replace=True)\n",
    "\n",
    "# It can be helpful to create a meaningful model name and \n",
    "# save the model for later use. You can load it later using Word2Vec.load()\n",
    "model_name = \"300features_40minwords_10context\"\n",
    "model.save(model_name)"
   ]
  },
  {
   "cell_type": "code",
   "execution_count": 15,
   "metadata": {
    "collapsed": false
   },
   "outputs": [
    {
     "data": {
      "text/plain": [
       "'kitchen'"
      ]
     },
     "execution_count": 15,
     "metadata": {},
     "output_type": "execute_result"
    }
   ],
   "source": [
    "model.doesnt_match(\"man woman child kitchen\".split())"
   ]
  },
  {
   "cell_type": "code",
   "execution_count": 16,
   "metadata": {
    "collapsed": false
   },
   "outputs": [
    {
     "data": {
      "text/plain": [
       "'berlin'"
      ]
     },
     "execution_count": 16,
     "metadata": {},
     "output_type": "execute_result"
    }
   ],
   "source": [
    "model.doesnt_match(\"france england germany berlin\".split())"
   ]
  },
  {
   "cell_type": "code",
   "execution_count": 17,
   "metadata": {
    "collapsed": false
   },
   "outputs": [
    {
     "data": {
      "text/plain": [
       "'paris'"
      ]
     },
     "execution_count": 17,
     "metadata": {},
     "output_type": "execute_result"
    }
   ],
   "source": [
    "model.doesnt_match(\"paris berlin london austria\".split())"
   ]
  },
  {
   "cell_type": "code",
   "execution_count": 18,
   "metadata": {
    "collapsed": false
   },
   "outputs": [
    {
     "data": {
      "text/plain": [
       "[(u'woman', 0.6323821544647217),\n",
       " (u'lady', 0.6008610129356384),\n",
       " (u'lad', 0.5750747919082642),\n",
       " (u'monk', 0.566232442855835),\n",
       " (u'millionaire', 0.5291553735733032),\n",
       " (u'farmer', 0.5269814729690552),\n",
       " (u'chap', 0.5243933200836182),\n",
       " (u'soldier', 0.5153464674949646),\n",
       " (u'businessman', 0.5140076279640198),\n",
       " (u'men', 0.5137616395950317)]"
      ]
     },
     "execution_count": 18,
     "metadata": {},
     "output_type": "execute_result"
    }
   ],
   "source": [
    "model.most_similar(\"man\")"
   ]
  },
  {
   "cell_type": "code",
   "execution_count": 19,
   "metadata": {
    "collapsed": false
   },
   "outputs": [
    {
     "data": {
      "text/plain": [
       "[(u'princess', 0.6909825801849365),\n",
       " (u'bride', 0.6298839449882507),\n",
       " (u'belle', 0.6224162578582764),\n",
       " (u'victoria', 0.5855280160903931),\n",
       " (u'stepmother', 0.5841797590255737),\n",
       " (u'maid', 0.5788012742996216),\n",
       " (u'maria', 0.5742377638816833),\n",
       " (u'countess', 0.565711498260498),\n",
       " (u'diana', 0.5642315149307251),\n",
       " (u'showgirl', 0.5621235370635986)]"
      ]
     },
     "execution_count": 19,
     "metadata": {},
     "output_type": "execute_result"
    }
   ],
   "source": [
    "model.most_similar(\"queen\")"
   ]
  },
  {
   "cell_type": "code",
   "execution_count": 20,
   "metadata": {
    "collapsed": false
   },
   "outputs": [
    {
     "data": {
      "text/plain": [
       "[(u'terrible', 0.7709794044494629),\n",
       " (u'atrocious', 0.7548998594284058),\n",
       " (u'horrible', 0.7409041523933411),\n",
       " (u'abysmal', 0.7279420495033264),\n",
       " (u'dreadful', 0.7190712690353394),\n",
       " (u'horrendous', 0.6869989633560181),\n",
       " (u'appalling', 0.6857318878173828),\n",
       " (u'horrid', 0.6836851835250854),\n",
       " (u'lousy', 0.6475538611412048),\n",
       " (u'amateurish', 0.6179372072219849)]"
      ]
     },
     "execution_count": 20,
     "metadata": {},
     "output_type": "execute_result"
    }
   ],
   "source": [
    "model.most_similar(\"awful\")"
   ]
  },
  {
   "cell_type": "code",
   "execution_count": 21,
   "metadata": {
    "collapsed": false
   },
   "outputs": [
    {
     "data": {
      "text/plain": [
       "numpy.ndarray"
      ]
     },
     "execution_count": 21,
     "metadata": {},
     "output_type": "execute_result"
    }
   ],
   "source": [
    "type(model.syn0)"
   ]
  },
  {
   "cell_type": "code",
   "execution_count": 22,
   "metadata": {
    "collapsed": false
   },
   "outputs": [
    {
     "data": {
      "text/plain": [
       "(16490L, 300L)"
      ]
     },
     "execution_count": 22,
     "metadata": {},
     "output_type": "execute_result"
    }
   ],
   "source": [
    "model.syn0.shape"
   ]
  },
  {
   "cell_type": "code",
   "execution_count": 23,
   "metadata": {
    "collapsed": false
   },
   "outputs": [
    {
     "data": {
      "text/plain": [
       "array([ 0.07611886,  0.07022257, -0.22491452,  0.04522414,  0.006568  ,\n",
       "        0.04751567,  0.1393026 ,  0.00469399,  0.06333628, -0.01206978,\n",
       "       -0.09721992, -0.18218544,  0.04218316,  0.13176009, -0.04569632,\n",
       "        0.0386739 , -0.02008674,  0.00445849, -0.01756522, -0.1298802 ,\n",
       "       -0.12459041, -0.01063596,  0.09662805,  0.01410297, -0.01573782,\n",
       "       -0.01106897, -0.06547947, -0.0803933 , -0.04136204, -0.07225884,\n",
       "       -0.0307914 ,  0.00168031, -0.01406776, -0.01447524, -0.0698203 ,\n",
       "        0.04024277,  0.05038081, -0.0011916 ,  0.08872408, -0.00137332,\n",
       "       -0.06026755,  0.00045231, -0.00643785, -0.1270586 ,  0.00595851,\n",
       "        0.03259012, -0.04065161, -0.01163101, -0.000253  ,  0.01978572,\n",
       "       -0.03932174,  0.05984711,  0.07226522,  0.02504538, -0.01278582,\n",
       "        0.0217986 ,  0.03734752,  0.03872557, -0.04276543, -0.03074506,\n",
       "       -0.10613407,  0.01799459,  0.10174102,  0.0411172 , -0.06514064,\n",
       "        0.02205693,  0.04060026,  0.03889267,  0.04482412, -0.02508918,\n",
       "       -0.08292663,  0.05178875, -0.05254725, -0.02367324, -0.00363922,\n",
       "        0.02768124,  0.02987897,  0.00402825,  0.01664136,  0.08456296,\n",
       "        0.00446311,  0.08041811,  0.00553342, -0.15390444, -0.01057441,\n",
       "        0.04473761,  0.01248464, -0.11964439,  0.07131859, -0.05456065,\n",
       "       -0.04338372, -0.04359122,  0.01042123,  0.01277312, -0.04225376,\n",
       "       -0.0494876 ,  0.12794298, -0.05998093, -0.08818294,  0.02758749,\n",
       "       -0.02757997, -0.01196597,  0.03940639, -0.09855844, -0.06279893,\n",
       "       -0.08358011, -0.04792556,  0.10511353, -0.04724469, -0.11697333,\n",
       "        0.02397715,  0.08357283,  0.08670997,  0.02871449,  0.03132233,\n",
       "        0.02562595,  0.07145422,  0.01141961,  0.09173629,  0.13918872,\n",
       "        0.0071232 , -0.03697697, -0.02860692,  0.09418748,  0.03063721,\n",
       "        0.03013621, -0.04411294,  0.03509874,  0.04706435, -0.04731837,\n",
       "       -0.07920257, -0.01100671, -0.07832335,  0.00608721, -0.04627937,\n",
       "        0.07108158, -0.0199069 , -0.01834189, -0.02168746,  0.01537146,\n",
       "       -0.07024737, -0.02600617,  0.0202338 ,  0.06591034,  0.12348896,\n",
       "        0.00730586,  0.00603527,  0.10056607, -0.02676185,  0.03088768,\n",
       "        0.00816084,  0.00417898,  0.03967787, -0.04460734,  0.01333565,\n",
       "        0.10207257, -0.09754901, -0.02954931,  0.02286482,  0.10878047,\n",
       "        0.01599564,  0.0567884 ,  0.02049488, -0.05014799, -0.04015614,\n",
       "       -0.00697467,  0.00721738,  0.02980722,  0.08293611,  0.1055289 ,\n",
       "       -0.02972388, -0.08582134, -0.07083892, -0.07707358,  0.02015132,\n",
       "       -0.05113675, -0.02780257, -0.06332783,  0.07218932,  0.00323756,\n",
       "        0.00277522, -0.04046451, -0.07820382, -0.03007207,  0.03216631,\n",
       "       -0.00079608,  0.00450242, -0.11226059,  0.05606456, -0.04755341,\n",
       "       -0.00464436, -0.02062396,  0.00377285,  0.04401275,  0.06502647,\n",
       "        0.01314745, -0.05177117,  0.09482127, -0.00433002,  0.02447597,\n",
       "        0.01239078,  0.05925275, -0.01150391, -0.03117214,  0.09791173,\n",
       "       -0.04762473, -0.03060334, -0.00289291,  0.02001475,  0.08816984,\n",
       "       -0.02111075,  0.01982279,  0.01926421,  0.03486611,  0.05750644,\n",
       "        0.03790698,  0.05355785,  0.004167  ,  0.02962106,  0.05056785,\n",
       "        0.01571782, -0.04879127,  0.01164154,  0.01869161,  0.04654865,\n",
       "       -0.04762153,  0.00701349, -0.03952164,  0.06921538,  0.02174758,\n",
       "       -0.01809075, -0.03559009,  0.08711839, -0.09290511,  0.04841038,\n",
       "       -0.02263779,  0.01413973, -0.0699961 ,  0.08119799, -0.01694064,\n",
       "        0.04367753,  0.0554624 , -0.02728171, -0.04714133, -0.02218637,\n",
       "        0.02786158,  0.05577248,  0.00576254,  0.07482495, -0.00293159,\n",
       "        0.05004625, -0.09344918,  0.03903213,  0.06403034,  0.04953865,\n",
       "        0.03025324,  0.04351657, -0.00589668,  0.05980382,  0.03437451,\n",
       "        0.00943989, -0.01148964, -0.02762351,  0.00228989,  0.03954165,\n",
       "        0.00555678,  0.11711346,  0.04138432,  0.03628567,  0.05429262,\n",
       "        0.00957315, -0.00789236, -0.01429815,  0.04298754,  0.02119581,\n",
       "       -0.04468499,  0.0237168 ,  0.00401019, -0.00653537,  0.03160726,\n",
       "       -0.04261779, -0.02765673,  0.10955138,  0.03431528, -0.07179025,\n",
       "        0.06017423, -0.03576088, -0.03822364, -0.07335446,  0.03077424,\n",
       "       -0.0361187 , -0.01449063,  0.00607632, -0.05184868, -0.08127205,\n",
       "        0.07048367, -0.05918738,  0.09029199,  0.12795691,  0.12514931], dtype=float32)"
      ]
     },
     "execution_count": 23,
     "metadata": {},
     "output_type": "execute_result"
    }
   ],
   "source": [
    "model[\"flower\"]"
   ]
  },
  {
   "cell_type": "code",
   "execution_count": 24,
   "metadata": {
    "collapsed": true
   },
   "outputs": [],
   "source": [
    "import numpy as np  # Make sure that numpy is imported\n",
    "\n",
    "def makeFeatureVec(words, model, num_features):\n",
    "    # Function to average all of the word vectors in a given\n",
    "    # paragraph\n",
    "    #\n",
    "    # Pre-initialize an empty numpy array (for speed)\n",
    "    featureVec = np.zeros((num_features,),dtype=\"float32\")\n",
    "    #\n",
    "    nwords = 0.\n",
    "    # \n",
    "    # Index2word is a list that contains the names of the words in \n",
    "    # the model's vocabulary. Convert it to a set, for speed \n",
    "    index2word_set = set(model.index2word)\n",
    "    #\n",
    "    # Loop over each word in the review and, if it is in the model's\n",
    "    # vocaublary, add its feature vector to the total\n",
    "    for word in words:\n",
    "        if word in index2word_set: \n",
    "            nwords = nwords + 1.\n",
    "            featureVec = np.add(featureVec,model[word])\n",
    "    # \n",
    "    # Divide the result by the number of words to get the average\n",
    "    featureVec = np.divide(featureVec,nwords)\n",
    "    return featureVec\n",
    "\n",
    "\n",
    "def getAvgFeatureVecs(reviews, model, num_features):\n",
    "    # Given a set of reviews (each one a list of words), calculate \n",
    "    # the average feature vector for each one and return a 2D numpy array \n",
    "    # \n",
    "    # Initialize a counter\n",
    "    counter = 0.\n",
    "    # \n",
    "    # Preallocate a 2D numpy array, for speed\n",
    "    reviewFeatureVecs = np.zeros((len(reviews),num_features),dtype=\"float32\")\n",
    "    # \n",
    "    # Loop through the reviews\n",
    "    for review in reviews:\n",
    "       \n",
    "       # Print a status message every 1000th review\n",
    "       if counter%1000. == 0.:\n",
    "           print \"Review %d of %d\" % (counter, len(reviews))\n",
    "       #\n",
    "       # Call the function (defined above) that makes average feature vectors\n",
    "       reviewFeatureVecs[counter] = makeFeatureVec(review, model, \\\n",
    "           num_features)\n",
    "       #\n",
    "       # Increment the counter\n",
    "       counter = counter + 1.\n",
    "    return reviewFeatureVecs"
   ]
  },
  {
   "cell_type": "code",
   "execution_count": 25,
   "metadata": {
    "collapsed": false
   },
   "outputs": [
    {
     "name": "stdout",
     "output_type": "stream",
     "text": [
      "Review 0 of 25000\n",
      "Review 1000 of 25000\n",
      "Review 2000 of 25000\n",
      "Review 3000 of 25000\n",
      "Review 4000 of 25000\n",
      "Review 5000 of 25000\n",
      "Review 6000 of 25000\n",
      "Review 7000 of 25000\n",
      "Review 8000 of 25000\n",
      "Review 9000 of 25000\n",
      "Review 10000 of 25000\n",
      "Review 11000 of 25000\n",
      "Review 12000 of 25000\n",
      "Review 13000 of 25000\n",
      "Review 14000 of 25000\n",
      "Review 15000 of 25000\n",
      "Review 16000 of 25000\n",
      "Review 17000 of 25000\n",
      "Review 18000 of 25000\n",
      "Review 19000 of 25000\n",
      "Review 20000 of 25000\n",
      "Review 21000 of 25000\n",
      "Review 22000 of 25000\n",
      "Review 23000 of 25000\n",
      "Review 24000 of 25000\n",
      "Creating average feature vecs for test reviews\n",
      "Review 0 of 25000\n",
      "Review 1000 of 25000\n",
      "Review 2000 of 25000\n",
      "Review 3000 of 25000\n",
      "Review 4000 of 25000\n",
      "Review 5000 of 25000\n",
      "Review 6000 of 25000\n",
      "Review 7000 of 25000\n",
      "Review 8000 of 25000\n",
      "Review 9000 of 25000\n",
      "Review 10000 of 25000\n",
      "Review 11000 of 25000\n",
      "Review 12000 of 25000\n",
      "Review 13000 of 25000\n",
      "Review 14000 of 25000\n",
      "Review 15000 of 25000\n",
      "Review 16000 of 25000\n",
      "Review 17000 of 25000\n",
      "Review 18000 of 25000\n",
      "Review 19000 of 25000\n",
      "Review 20000 of 25000\n",
      "Review 21000 of 25000\n",
      "Review 22000 of 25000\n",
      "Review 23000 of 25000\n",
      "Review 24000 of 25000\n"
     ]
    }
   ],
   "source": [
    "# ****************************************************************\n",
    "# Calculate average feature vectors for training and testing sets,\n",
    "# using the functions we defined above. Notice that we now use stop word\n",
    "# removal.\n",
    "\n",
    "clean_train_reviews = []\n",
    "for review in train[\"review\"]:\n",
    "    clean_train_reviews.append( review_to_wordlist( review, \\\n",
    "        remove_stopwords=True ))\n",
    "\n",
    "trainDataVecs = getAvgFeatureVecs( clean_train_reviews, model, num_features )\n",
    "\n",
    "print \"Creating average feature vecs for test reviews\"\n",
    "clean_test_reviews = []\n",
    "for review in test[\"review\"]:\n",
    "    clean_test_reviews.append( review_to_wordlist( review, \\\n",
    "        remove_stopwords=True ))\n",
    "\n",
    "testDataVecs = getAvgFeatureVecs( clean_test_reviews, model, num_features )"
   ]
  },
  {
   "cell_type": "code",
   "execution_count": 26,
   "metadata": {
    "collapsed": false
   },
   "outputs": [
    {
     "name": "stdout",
     "output_type": "stream",
     "text": [
      "Fitting a random forest to labeled training data...\n"
     ]
    }
   ],
   "source": [
    "# Fit a random forest to the training data, using 100 trees\n",
    "from sklearn.ensemble import RandomForestClassifier\n",
    "forest = RandomForestClassifier( n_estimators = 100 )\n",
    "\n",
    "print \"Fitting a random forest to labeled training data...\"\n",
    "forest = forest.fit( trainDataVecs, train[\"sentiment\"] )\n",
    "\n",
    "# Test & extract results \n",
    "result = forest.predict( testDataVecs )\n",
    "\n",
    "# Write the test results \n",
    "output = pd.DataFrame( data={\"id\":test[\"id\"], \"sentiment\":result} )\n",
    "output.to_csv( \"Word2Vec_AverageVectors.csv\", index=False, quoting=3 )"
   ]
  },
  {
   "cell_type": "code",
   "execution_count": 27,
   "metadata": {
    "collapsed": false
   },
   "outputs": [
    {
     "name": "stdout",
     "output_type": "stream",
     "text": [
      "Time taken for K Means clustering:  540.781000137 seconds.\n"
     ]
    }
   ],
   "source": [
    "from sklearn.cluster import KMeans\n",
    "import time\n",
    "\n",
    "start = time.time() # Start time\n",
    "\n",
    "# Set \"k\" (num_clusters) to be 1/5th of the vocabulary size, or an\n",
    "# average of 5 words per cluster\n",
    "word_vectors = model.syn0\n",
    "num_clusters = word_vectors.shape[0] / 5\n",
    "\n",
    "# Initalize a k-means object and use it to extract centroids\n",
    "kmeans_clustering = KMeans( n_clusters = num_clusters )\n",
    "idx = kmeans_clustering.fit_predict( word_vectors )\n",
    "\n",
    "# Get the end time and print how long the process took\n",
    "end = time.time()\n",
    "elapsed = end - start\n",
    "print \"Time taken for K Means clustering: \", elapsed, \"seconds.\""
   ]
  },
  {
   "cell_type": "code",
   "execution_count": 28,
   "metadata": {
    "collapsed": true
   },
   "outputs": [],
   "source": [
    "# Create a Word / Index dictionary, mapping each vocabulary word to\n",
    "# a cluster number                                                                                            \n",
    "word_centroid_map = dict(zip( model.index2word, idx ))"
   ]
  },
  {
   "cell_type": "code",
   "execution_count": 29,
   "metadata": {
    "collapsed": false
   },
   "outputs": [
    {
     "name": "stdout",
     "output_type": "stream",
     "text": [
      "\n",
      "Cluster 0\n",
      "[u'thora', u'cher', u'tilda', u'johansson', u'swinton', u'falco', u'gyllenhaal', u'scarlett', u'witherspoon', u'farrow', u'mia', u'cecilia', u'birch']\n",
      "\n",
      "Cluster 1\n",
      "[u'support', u'input', u'partnership', u'guidance', u'aid', u'assistance', u'interference', u'gifts']\n",
      "\n",
      "Cluster 2\n",
      "[u'destroys', u'oblivious', u'justifies', u'ignoring', u'undermines', u'contradicts', u'ignores']\n",
      "\n",
      "Cluster 3\n",
      "[u'speeds', u'burning', u'speeding']\n",
      "\n",
      "Cluster 4\n",
      "[u'matched', u'offset', u'heightened', u'reinforced', u'utilized', u'compensated', u'enhanced', u'rendered', u'provided', u'generated']\n",
      "\n",
      "Cluster 5\n",
      "[u'pasolini', u'plagiarism']\n",
      "\n",
      "Cluster 6\n",
      "[u'tribes', u'races', u'individuals', u'figures', u'units', u'families', u'churches', u'groups', u'generations', u'communities']\n",
      "\n",
      "Cluster 7\n",
      "[u'darryl']\n",
      "\n",
      "Cluster 8\n",
      "[u'welcomed', u'summoned', u'raised', u'harmed', u'formed', u'healed', u'defended', u'damaged', u'conquered', u'ruled', u'awakened', u'inventing', u'devastated', u'enslaved', u'controlled', u'examined', u'protected', u'defeated', u'hijacked', u'guarded', u'operated', u'founded', u'conducted', u'destroyed', u'proposed', u'cursed', u'invaded', u'contaminated', u'ravaged']\n",
      "\n",
      "Cluster 9\n",
      "[u'terrible', u'horrible', u'bad', u'awful']\n"
     ]
    }
   ],
   "source": [
    "# For the first 10 clusters\n",
    "for cluster in xrange(0,10):\n",
    "    #\n",
    "    # Print the cluster number  \n",
    "    print \"\\nCluster %d\" % cluster\n",
    "    #\n",
    "    # Find all of the words for that cluster number, and print them out\n",
    "    words = []\n",
    "    for i in xrange(0,len(word_centroid_map.values())):\n",
    "        if( word_centroid_map.values()[i] == cluster ):\n",
    "            words.append(word_centroid_map.keys()[i])\n",
    "    print words"
   ]
  },
  {
   "cell_type": "code",
   "execution_count": 30,
   "metadata": {
    "collapsed": true
   },
   "outputs": [],
   "source": [
    "def create_bag_of_centroids( wordlist, word_centroid_map ):\n",
    "    #\n",
    "    # The number of clusters is equal to the highest cluster index\n",
    "    # in the word / centroid map\n",
    "    num_centroids = max( word_centroid_map.values() ) + 1\n",
    "    #\n",
    "    # Pre-allocate the bag of centroids vector (for speed)\n",
    "    bag_of_centroids = np.zeros( num_centroids, dtype=\"float32\" )\n",
    "    #\n",
    "    # Loop over the words in the review. If the word is in the vocabulary,\n",
    "    # find which cluster it belongs to, and increment that cluster count \n",
    "    # by one\n",
    "    for word in wordlist:\n",
    "        if word in word_centroid_map:\n",
    "            index = word_centroid_map[word]\n",
    "            bag_of_centroids[index] += 1\n",
    "    #\n",
    "    # Return the \"bag of centroids\"\n",
    "    return bag_of_centroids"
   ]
  },
  {
   "cell_type": "code",
   "execution_count": 31,
   "metadata": {
    "collapsed": true
   },
   "outputs": [],
   "source": [
    "# Pre-allocate an array for the training set bags of centroids (for speed)\n",
    "train_centroids = np.zeros( (train[\"review\"].size, num_clusters), \\\n",
    "    dtype=\"float32\" )\n",
    "\n",
    "# Transform the training set reviews into bags of centroids\n",
    "counter = 0\n",
    "for review in clean_train_reviews:\n",
    "    train_centroids[counter] = create_bag_of_centroids( review, \\\n",
    "        word_centroid_map )\n",
    "    counter += 1\n",
    "\n",
    "# Repeat for test reviews \n",
    "test_centroids = np.zeros(( test[\"review\"].size, num_clusters), \\\n",
    "    dtype=\"float32\" )\n",
    "\n",
    "counter = 0\n",
    "for review in clean_test_reviews:\n",
    "    test_centroids[counter] = create_bag_of_centroids( review, \\\n",
    "        word_centroid_map )\n",
    "    counter += 1"
   ]
  },
  {
   "cell_type": "code",
   "execution_count": 32,
   "metadata": {
    "collapsed": false
   },
   "outputs": [
    {
     "name": "stdout",
     "output_type": "stream",
     "text": [
      "Fitting a random forest to labeled training data...\n"
     ]
    }
   ],
   "source": [
    "# Fit a random forest and extract predictions \n",
    "forest = RandomForestClassifier(n_estimators = 100)\n",
    "\n",
    "# Fitting the forest may take a few minutes\n",
    "print \"Fitting a random forest to labeled training data...\"\n",
    "forest = forest.fit(train_centroids,train[\"sentiment\"])\n",
    "result = forest.predict(test_centroids)\n",
    "\n",
    "# Write the test results \n",
    "output = pd.DataFrame(data={\"id\":test[\"id\"], \"sentiment\":result})\n",
    "output.to_csv( \"BagOfCentroids.csv\", index=False, quoting=3 )"
   ]
  },
  {
   "cell_type": "code",
   "execution_count": null,
   "metadata": {
    "collapsed": true
   },
   "outputs": [],
   "source": []
  }
 ],
 "metadata": {
  "kernelspec": {
   "display_name": "Python [ipykernel_py2]",
   "language": "python",
   "name": "Python [ipykernel_py2]"
  },
  "language_info": {
   "codemirror_mode": {
    "name": "ipython",
    "version": 2
   },
   "file_extension": ".py",
   "mimetype": "text/x-python",
   "name": "python",
   "nbconvert_exporter": "python",
   "pygments_lexer": "ipython2",
   "version": "2.7.12"
  }
 },
 "nbformat": 4,
 "nbformat_minor": 0
}
