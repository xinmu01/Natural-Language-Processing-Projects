{
 "cells": [
  {
   "cell_type": "markdown",
   "metadata": {},
   "source": [
    "## 1. Construct the emission matrix p(w/t)\n",
    "In the trigram model, I label the word using the tag consists of its own tag with the previous tag.  "
   ]
  },
  {
   "cell_type": "code",
   "execution_count": 3,
   "metadata": {
    "collapsed": false
   },
   "outputs": [],
   "source": [
    "## Construct bag of word for word and tag seperately\n",
    "word_count = {}\n",
    "tag_count = {}\n",
    "with open (\"C:/Users/Xin/Desktop/Github-repo/Natural_Language_Processing_Projects/Project_3_Sequence_Tagging/hw3-data/train.txt\") as train_file:\n",
    "    for line in train_file:\n",
    "        line_list = line.split()\n",
    "        temp_tag_list = []\n",
    "        for i in range(len(line_list)):\n",
    "            temp = line_list[i].split('/')\n",
    "            if temp[0] not in word_count:\n",
    "                word_count[temp[0]]=1\n",
    "            if temp[0] in word_count:\n",
    "                word_count[temp[0]]+=1\n",
    "            temp_tag_list.append(temp[1])\n",
    "        ## Construct bigram tags\n",
    "        temp_tag_list_prev = [\"<s>\"]\n",
    "        for i in range(len(temp_tag_list)-1):\n",
    "            temp_tag_list_prev.append(temp_tag_list[i])\n",
    "        for i in range(len(temp_tag_list)):\n",
    "            tag_temp= \"\".join([temp_tag_list_prev[i],temp_tag_list[i]])\n",
    "            if tag_temp not in tag_count:\n",
    "                tag_count[tag_temp] = 1\n",
    "            else:\n",
    "                tag_count[tag_temp] += 1\n",
    "### word_count\n",
    "#{'azaleas': 5,\n",
    "# 'termination': 3,\n",
    "# 'planting': 26,\n",
    "# ...\n",
    "\n",
    "### tag_count\n",
    "#{'<s>A': 28,\n",
    "# '<s>D': 11005,\n",
    "# '<s>E': 1978,\n",
    "# '<s>F': 12612,\n",
    "# '<s>N': 153233,\n",
    "# '<s>R': 11318,\n",
    "# 'AA': 2564,\n",
    "# 'AD': 19,\n",
    "# 'AE': 2,\n",
    "# ... "
   ]
  },
  {
   "cell_type": "code",
   "execution_count": 10,
   "metadata": {
    "collapsed": false
   },
   "outputs": [],
   "source": [
    "## Construct the data structure to store the c(t,w). Here t is the double tag created above.  \n",
    "# Use the dictionary to store the counts\n",
    "# For the dictionary word_tag_pair_counts, the keys are the tags in the training set, the value is a dictionary, in which the keys \n",
    "# are the words, the the value are the counts for this word-key pair \n",
    "tag_word_pair_counts = {}\n",
    "\n",
    "with open (\"C:/Users/Xin/Desktop/Github-repo/Natural_Language_Processing_Projects/Project_3_Sequence_Tagging/hw3-data/train.txt\") as train_file:\n",
    "    for line in train_file:\n",
    "        line_list = line.split()\n",
    "        \n",
    "        temp_tag_list_uni = []\n",
    "        temp_tag_list_double = []\n",
    "        temp_word_list = []\n",
    "        for i in range(len(line_list)):\n",
    "            temp = line_list[i].split('/')\n",
    "            temp_word_list.append(temp[0])\n",
    "            temp_tag_list_uni.append(temp[1])\n",
    "        \n",
    "        ## Construct the double tag    \n",
    "        temp_tag_list_uni_prev = [\"<s>\"]\n",
    "        for i in range(len(temp_tag_list_uni)-1):\n",
    "            temp_tag_list_uni_prev.append(temp_tag_list_uni[i])\n",
    "        for i in range(len(temp_tag_list_uni)):\n",
    "            temp_tag_list_double.append(\"\".join([temp_tag_list_uni_prev[i],temp_tag_list_uni[i]]))\n",
    "        \n",
    "        for i in range(len(temp_tag_list_double)):\n",
    "            if temp_tag_list_double[i] not in tag_word_pair_counts:\n",
    "                tag_word_pair_counts[temp_tag_list_double[i]] = {}\n",
    "                tag_word_pair_counts[temp_tag_list_double[i]][temp_word_list[i]] = 1\n",
    "            else:\n",
    "                if temp_word_list[i] not in tag_word_pair_counts[temp_tag_list_double[i]]:\n",
    "                    tag_word_pair_counts[temp_tag_list_double[i]][temp_word_list[i]] = 1\n",
    "                else:\n",
    "                    tag_word_pair_counts[temp_tag_list_double[i]][temp_word_list[i]] += 1\n",
    "#tag_word_pair_counts\n",
    "#{'<s>A': {'--': 8,\n",
    "#  'and': 1,\n",
    "#  'basketball': 1,\n",
    "#  'but': 1,\n",
    "#  'criminal': 1,\n",
    "#  'frankly': 1,\n",
    "#  'i': 2,\n",
    "#  'like': 1,\n",
    "#  'not': 3,\n",
    "# ...\n",
    "# ..."
   ]
  },
  {
   "cell_type": "code",
   "execution_count": 14,
   "metadata": {
    "collapsed": true
   },
   "outputs": [],
   "source": [
    "## Construct the emission matrix, each entry is p(w/t), I use add delta smoothing to deal with unknown word\n",
    "\n",
    "## I use a dictionary of dictionary to represent this matrix\n",
    "## The key of the outer dictionary is the double tag, and the the key of the sub-dictionary is their corresponding word\n",
    "emission_matrix = {}\n",
    "delta = 0.1 \n",
    "V = len(word_count) + 1 ## assum only one kind of unseen words\n",
    "for tag in tag_count:\n",
    "    emission_matrix[tag]={}\n",
    "    sum_tag_allword = 0\n",
    "    for word in tag_word_pair_counts[tag]:\n",
    "        sum_tag_allword += tag_word_pair_counts[tag][word]\n",
    "    sum_tag_allword += V*delta ## Add delta smoothing\n",
    "    for word in tag_word_pair_counts[tag]:\n",
    "        emission_matrix[tag][word] = (tag_word_pair_counts[tag][word]+delta)/sum_tag_allword\n",
    "    emission_matrix[tag]['unk'] = delta/sum_tag_allword\n",
    "#emission_matrix\n",
    "#{'<s>A': {'--': 0.0039187227866473145,\n",
    "#  'and': 0.0005321722302854379,\n",
    "#  'basketball': 0.0005321722302854379,\n",
    "#  'but': 0.0005321722302854379,\n",
    "#  'criminal': 0.0005321722302854379,\n",
    "#  'frankly': 0.0005321722302854379,\n",
    "# ..."
   ]
  },
  {
   "cell_type": "code",
   "execution_count": 26,
   "metadata": {
    "collapsed": false
   },
   "outputs": [
    {
     "name": "stdout",
     "output_type": "stream",
     "text": [
      "p(you/ND): 0.6603412430998639\n",
      "p(you/FN): 0.011478710196960038\n",
      "p(you/NN): 0.012527265507569068\n",
      "p(you/NE): 0.0018945022288261513\n",
      "p(you/<s>E): 0.0002738361961662933\n",
      "p(you/<s>R): 0.01498090888672606\n",
      "p(you/AD): 0.005393586005830904\n",
      "p(you/AA): 0.0037149684988051273\n",
      "p(you/FA): 0.0005169172932330828\n",
      "p(you/<s>D): 0.15440815700705304\n",
      "p(you/FD): 0.27144626052501236\n",
      "p(you/<s>F): 7.50801993038018e-05\n",
      "p(you/RE): 0.0004437273093989512\n",
      "p(you/RD): 0.3818807884113037\n",
      "p(you/<s>N): 0.012243675614405687\n",
      "p(you/RR): 0.009069113375443773\n",
      "p(you/NR): 0.015876539073624258\n",
      "p(you/NA): 0.002756439222774514\n",
      "p(you/DD): 0.008167176959649516\n",
      "p(you/RA): 0.0018850574712643677\n",
      "p(you/DR): 0.017379339542760372\n",
      "p(you/ED): 0.05048143053645117\n",
      "p(you/DN): 0.026242724930827212\n",
      "p(you/FE): 0.0005183788878416588\n",
      "p(you/EN): 0.02583201267828843\n",
      "p(you/ER): 0.007919621749408984\n",
      "p(you/RN): 0.017230509955683166\n",
      "p(you/FR): 0.010583103764921947\n",
      "p(you/AN): 0.0013225255972696246\n",
      "29\n"
     ]
    }
   ],
   "source": [
    "## Obtain p(you/t)\n",
    "count = 0\n",
    "for tag in tag_count:    \n",
    "    if \"you\" not in emission_matrix[tag]:\n",
    "        continue\n",
    "    else:\n",
    "        count += 1 \n",
    "        print (\"p(you/{}): {}\".format(tag,emission_matrix[tag]['you']))\n",
    "print (count)"
   ]
  },
  {
   "cell_type": "code",
   "execution_count": null,
   "metadata": {
    "collapsed": true
   },
   "outputs": [],
   "source": []
  }
 ],
 "metadata": {
  "anaconda-cloud": {},
  "kernelspec": {
   "display_name": "Python [Root]",
   "language": "python",
   "name": "Python [Root]"
  },
  "language_info": {
   "codemirror_mode": {
    "name": "ipython",
    "version": 3
   },
   "file_extension": ".py",
   "mimetype": "text/x-python",
   "name": "python",
   "nbconvert_exporter": "python",
   "pygments_lexer": "ipython3",
   "version": "3.5.2"
  }
 },
 "nbformat": 4,
 "nbformat_minor": 0
}
