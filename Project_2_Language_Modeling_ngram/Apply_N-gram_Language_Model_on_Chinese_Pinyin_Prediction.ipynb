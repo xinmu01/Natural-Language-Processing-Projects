{
 "cells": [
  {
   "cell_type": "code",
   "execution_count": 7,
   "metadata": {
    "collapsed": false
   },
   "outputs": [
    {
     "name": "stdout",
     "output_type": "stream",
     "text": [
      "The number of possible Chinese characters that are pronounced as yi is 484\n"
     ]
    }
   ],
   "source": [
    "## Read in the Chinese character pinyin map in a dictionary\n",
    "Chinese_character_pinyin_map = {}\n",
    "with open ('C:/Users/Xin/Desktop/NLP/Homework2/hw2-data/chinese/charmap',encoding='utf8') as Chinese_charmap:\n",
    "    for line in Chinese_charmap:\n",
    "        Chinese_character_pinyin_map[line[0]] = line[1:].strip()\n",
    "        \n",
    "count_yi = 0\n",
    "for char in Chinese_character_pinyin_map:\n",
    "    if Chinese_character_pinyin_map[char] == 'yi':\n",
    "        count_yi+=1\n",
    "        \n",
    "print ('The number of possible Chinese characters that are pronounced as yi is {}'.format(count_yi))\n",
    "        "
   ]
  },
  {
   "cell_type": "code",
   "execution_count": 10,
   "metadata": {
    "collapsed": false
   },
   "outputs": [
    {
     "name": "stdout",
     "output_type": "stream",
     "text": [
      "adam8157_away: 早\n",
      "\n",
      "M\n",
      "e\n",
      "a\n",
      "C\n",
      "u\n",
      "l\n",
      "p\n",
      "a\n",
      ":\n",
      " \n",
      "早\n",
      "\n",
      "\n"
     ]
    }
   ],
   "source": [
    "## Read in the Chinese training file as a big string\n",
    "Chinese_train_string\n",
    "with open ('C:/Users/Xin/Desktop/NLP/Homework2/hw2-data/chinese/train.han',encoding='utf8') as Chinese_train:\n",
    "    for line in Chinese_train:\n",
    "        "
   ]
  },
  {
   "cell_type": "code",
   "execution_count": 11,
   "metadata": {
    "collapsed": false
   },
   "outputs": [
    {
     "name": "stdout",
     "output_type": "stream",
     "text": [
      "p i g g y b o x : <space> ni yong m a c de l a u n c h d bu\n",
      "\n",
      "o\n",
      " \n",
      "f\n",
      " \n",
      "a\n",
      " \n",
      "n\n",
      " \n",
      ":\n",
      " \n",
      "<\n",
      "s\n",
      "p\n",
      "a\n",
      "c\n",
      "e\n",
      ">\n",
      " \n",
      "o\n",
      "u\n",
      " \n",
      "e\n",
      "r\n",
      " \n",
      "y\n",
      "o\n",
      "n\n",
      "g\n",
      "\n",
      "\n"
     ]
    }
   ],
   "source": [
    "with open ('C:/Users/Xin/Desktop/NLP/Homework2/hw2-data/chinese/dev.pin',encoding='utf8') as Chinese_dev_pinyin:\n",
    "    print (next(Chinese_dev_pinyin))\n",
    "    for cha in (next(Chinese_dev_pinyin)):\n",
    "        print (cha)"
   ]
  },
  {
   "cell_type": "code",
   "execution_count": null,
   "metadata": {
    "collapsed": true
   },
   "outputs": [],
   "source": []
  }
 ],
 "metadata": {
  "kernelspec": {
   "display_name": "Python [Root]",
   "language": "python",
   "name": "Python [Root]"
  },
  "language_info": {
   "codemirror_mode": {
    "name": "ipython",
    "version": 3
   },
   "file_extension": ".py",
   "mimetype": "text/x-python",
   "name": "python",
   "nbconvert_exporter": "python",
   "pygments_lexer": "ipython3",
   "version": "3.5.2"
  }
 },
 "nbformat": 4,
 "nbformat_minor": 0
}
